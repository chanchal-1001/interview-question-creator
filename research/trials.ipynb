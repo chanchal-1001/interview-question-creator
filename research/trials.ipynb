{
 "cells": [
  {
   "cell_type": "code",
   "execution_count": 1,
   "metadata": {},
   "outputs": [],
   "source": [
    "import os\n",
    "from dotenv import load_dotenv"
   ]
  },
  {
   "cell_type": "code",
   "execution_count": 2,
   "metadata": {},
   "outputs": [],
   "source": [
    "load_dotenv()\n",
    "OPENAI_API_KEY = os.getenv('OPENAI_API_KEY')\n",
    "\n",
    "os.environ['OPENAI_API_KEY'] = OPENAI_API_KEY"
   ]
  },
  {
   "cell_type": "code",
   "execution_count": 3,
   "metadata": {},
   "outputs": [
    {
     "data": {
      "text/plain": [
       "'c:\\\\Users\\\\chanc\\\\ineuron_Seven_project\\\\interview-question-creator\\\\research'"
      ]
     },
     "execution_count": 3,
     "metadata": {},
     "output_type": "execute_result"
    }
   ],
   "source": [
    "%pwd"
   ]
  },
  {
   "cell_type": "code",
   "execution_count": 32,
   "metadata": {},
   "outputs": [],
   "source": [
    "from langchain.document_loaders import PyPDFLoader\n",
    "\n",
    "file_path = \"../data/stats.pdf\" ## %cd .. for going one dir back \n",
    "loader = PyPDFLoader(file_path)\n",
    "data = loader.load()"
   ]
  },
  {
   "cell_type": "code",
   "execution_count": 33,
   "metadata": {},
   "outputs": [
    {
     "data": {
      "text/plain": [
       "'Importance\\nand\\nthe\\nuse\\nof\\ncorrelation\\nin\\nStatistics\\nIntroduction\\nCorrelation\\nis\\na\\nstatistical\\nmeasure\\nthat\\nexpresses\\nthe\\nextent\\nto\\nwhich\\ntwo\\nvariables\\nare\\nlinearly\\nrelated.\\nIt\\nis\\na\\ncommon\\ntool\\nfor\\ndescribing\\nsimple\\nrelationships\\nwithout\\nmaking\\na\\nstatement\\nabout\\ncause\\nand\\neffect.\\nCorrelation\\ncoefficients\\nrange\\nfrom\\n-1\\nto\\n1,\\nwith\\na\\nvalue\\nof\\n0\\nindicating\\nno\\nlinear\\nrelationship\\nbetween\\nthe\\ntwo\\nvariables,\\na\\nvalue\\nof\\n1\\nindicating\\na\\nperfect\\npositive\\nlinear\\nrelationship,\\nand\\na\\nvalue\\nof\\n-1\\nindicating\\na\\nperfect\\nnegative\\nlinear\\nrelationship.\\nCorrelation\\nis\\nimportant\\nin\\nstatistics\\nbecause\\nit\\ncan\\nbe\\nused\\nto\\n1.\\nIdentify\\nrelationships\\nbetween\\nvariables:\\nCorrelation\\ncan\\nbe\\nused\\nto\\nidentify\\nwhether\\nthere\\nis\\na\\nrelationship\\nbetween\\ntwo\\nvariables,\\nand\\nif\\nso,\\nwhether\\nthe\\nrelationship\\nis\\npositive\\nor\\nnegative.\\nThis\\ninformation\\ncan\\nbe\\nuseful\\nfor\\nunderstanding\\nthe\\nrelationships\\nbetween\\ndifferent\\nfactors\\nin\\na\\ncomplex\\nsystem.\\n2.\\nMake\\npredictions:\\nIf\\nthere\\nis\\na\\nstrong\\ncorrelation\\nbetween\\ntwo\\nvariables,\\nit\\nis\\npossible\\nto\\nuse\\nthe\\nvalue\\nof\\none\\nvariable\\nto\\npredict\\nthe\\nvalue\\nof\\nthe\\nother\\nvariable.\\nThis\\ncan\\nbe\\nuseful\\nfor\\nmaking\\npredictions\\nin\\na\\nvariety\\nof\\nfields,\\nsuch\\nas\\nbusiness,\\nfinance,\\nand\\nmedicine.\\n3.\\nDevelop\\ncausal\\nmodels:\\nCorrelation\\ncan\\nbe\\nused\\nas\\na\\nstarting\\npoint\\nfor\\ndeveloping\\ncausal\\nmodels,\\nwhich\\nare\\nmodels\\nthat\\ndescribe\\nhow\\nchanges\\nin\\none\\nvariable\\ncause\\nchanges\\nin\\nother\\nvariables.\\nCausal\\nmodels\\ncan\\nbe\\nused\\nto\\nmake\\nmore\\naccurate\\npredictions\\nand\\nto\\ndevelop\\ninterventions\\nto\\nchange\\nthe\\nvalues\\nof\\nspecific\\nvariables.Correlation\\nis\\nused\\nin\\na\\nwide\\nvariety\\nof\\nfields\\nincluding\\n1.\\nBusiness:\\nCorrelation\\ncan\\nbe\\nused\\nto\\nidentify\\nrelationships\\nbetween\\ndifferent\\nbusiness\\nvariables,\\nsuch\\nas\\nsales,\\nadvertising\\nspending,\\nand\\ncustomer\\nsatisfaction.\\nThis\\ninformation\\ncan\\nbe\\nused\\nto\\nmake\\nbetter\\nbusiness\\ndecisions,\\nsuch\\nas\\nhow\\nto\\nallocate\\nmarketing\\nresources.\\n2.\\nFinance:\\nCorrelation\\ncan\\nbe\\nused\\nto\\nidentify\\nrelationships\\nbetween\\ndifferent\\nfinancial\\nassets,\\nsuch\\nas\\nstocks,\\nbonds,\\nand\\ncommodities.\\nThis\\ninformation\\ncan\\nbe\\nused\\nto\\nbuild\\ndiversified\\nportfolios\\nthat\\nreduce\\nrisk.\\n3.\\nMedicine:\\nCorrelation\\ncan\\nbe\\nused\\nto\\nidentify\\nrelationships\\nbetween\\ndifferent\\nmedical\\nvariables,\\nsuch\\nas\\nrisk\\nfactors\\nfor\\ndiseases\\nand\\nthe\\neffectiveness\\nof\\ntreatments.\\nThis\\ninformation\\ncan\\nbe\\nused\\nto\\nimprove\\nthe\\nprevention,\\ndiagnosis,\\nand\\ntreatment\\nof\\ndiseases.\\n4.\\nPsychology:\\nCorrelation\\ncan\\nbe\\nused\\nto\\nidentify\\nrelationships\\nbetween\\ndifferent\\npsychological\\nvariables,\\nsuch\\nas\\npersonality\\ntraits,\\ncognitive\\nabilities,\\nand\\nmental\\ndisorders.\\nThis\\ninformation\\ncan\\nbe\\nused\\nto\\ndevelop\\nbetter\\npsychological\\nassessments\\nand\\ntreatments.\\nHow\\ncorrelation\\nis\\nused\\nin\\nthe\\nreal\\nworld\\n1.\\nA\\nmarketing\\nmanager\\nmight\\nuse\\ncorrelation\\nto\\nidentify\\nthe\\nrelationship\\nbetween\\nadvertising\\nspending\\nand\\nsales.\\nThis\\ninformation\\ncould\\nbe\\nused\\nto\\ndecide\\nhow\\nmuch\\nmoney\\nto\\nallocate\\nto\\nadvertising.\\n2.\\nA\\nfinancial\\nanalyst\\nmight\\nuse\\ncorrelation\\nto\\nidentify\\nthe\\nrelationship\\nbetween\\nthe\\nreturns\\nof\\ndifferent\\nstocks.\\nThis\\ninformation\\ncould\\nbeused\\nto\\nbuild\\na\\nportfolio\\nof\\nstocks\\nthat\\nis\\ndiversified\\nand\\nhas\\na\\nlower\\noverall\\nrisk.\\n3.\\nA\\nmedical\\nresearcher\\nmight\\nuse\\ncorrelation\\nto\\nidentify\\nthe\\nrelationship\\nbetween\\nsmoking\\nand\\nlung\\ncancer.\\nThis\\ninformation\\ncould\\nbe\\nused\\nto\\ndevelop\\npublic\\nhealth\\ncampaigns\\nto\\ndiscourage\\nsmoking.\\n4.\\nA\\npsychologist\\nmight\\nuse\\ncorrelation\\nto\\nidentify\\nthe\\nrelationship\\nbetween\\nanxiety\\nand\\ndepression.\\nThis\\ninformation\\ncould\\nbe\\nused\\nto\\ndevelop\\nmore\\neffective\\ntreatments\\nfor\\nanxiety\\nand\\ndepression.\\nConclusion\\nIt\\nis\\nimportant\\nto\\nnote\\nthat\\ncorrelation\\ndoes\\nnot\\nequal\\ncausation.\\nJust\\nbecause\\ntwo\\nvariables\\nare\\ncorrelated\\ndoes\\nnot\\nmean\\nthat\\none\\nvariable\\ncauses\\nthe\\nother .\\nFor\\nexample,\\nthere\\nis\\na\\nstrong\\ncorrelation\\nbetween\\nice\\ncream\\nsales\\nand\\nshark\\nattacks.\\nHowever ,\\nthis\\ndoes\\nnot\\nmean\\nthat\\neating\\nice\\ncream\\ncauses\\nshark\\nattacks.\\nInstead,\\nthere\\nis\\nlikely\\na\\nthird\\nvariable,\\nsuch\\nas\\nhot\\nweather ,\\nthat\\ncauses\\nboth\\nice\\ncream\\nsales\\nand\\nshark\\nattacks\\nto\\nincrease.\\nOverall,\\ncorrelation\\nis\\na\\npowerful\\nstatistical\\ntool\\nthat\\ncan\\nbe\\nused\\nto\\nidentify\\nrelationships\\nbetween\\nvariables,\\nmake\\npredictions,\\nand\\ndevelop\\ncausal\\nmodels.\\nIt\\nis\\nused\\nin\\na\\nwide\\nvariety\\nof\\nfields\\nto\\nmake\\nbetter\\ndecisions\\nand\\nimprove\\noutcomes.'"
      ]
     },
     "execution_count": 33,
     "metadata": {},
     "output_type": "execute_result"
    }
   ],
   "source": [
    "question_gen = \"\"\n",
    "\n",
    "for page in data:\n",
    "    question_gen += page.page_content\n",
    "\n",
    "question_gen"
   ]
  },
  {
   "cell_type": "code",
   "execution_count": 34,
   "metadata": {},
   "outputs": [],
   "source": [
    "from langchain.text_splitter import TokenTextSplitter\n",
    "\n",
    "splitter_ques_gen = TokenTextSplitter(\n",
    "    model_name= \"gpt-3.5-turbo\",\n",
    "    chunk_size = 10000,\n",
    "    chunk_overlap = 200\n",
    ")"
   ]
  },
  {
   "cell_type": "code",
   "execution_count": 35,
   "metadata": {},
   "outputs": [
    {
     "data": {
      "text/plain": [
       "['Importance\\nand\\nthe\\nuse\\nof\\ncorrelation\\nin\\nStatistics\\nIntroduction\\nCorrelation\\nis\\na\\nstatistical\\nmeasure\\nthat\\nexpresses\\nthe\\nextent\\nto\\nwhich\\ntwo\\nvariables\\nare\\nlinearly\\nrelated.\\nIt\\nis\\na\\ncommon\\ntool\\nfor\\ndescribing\\nsimple\\nrelationships\\nwithout\\nmaking\\na\\nstatement\\nabout\\ncause\\nand\\neffect.\\nCorrelation\\ncoefficients\\nrange\\nfrom\\n-1\\nto\\n1,\\nwith\\na\\nvalue\\nof\\n0\\nindicating\\nno\\nlinear\\nrelationship\\nbetween\\nthe\\ntwo\\nvariables,\\na\\nvalue\\nof\\n1\\nindicating\\na\\nperfect\\npositive\\nlinear\\nrelationship,\\nand\\na\\nvalue\\nof\\n-1\\nindicating\\na\\nperfect\\nnegative\\nlinear\\nrelationship.\\nCorrelation\\nis\\nimportant\\nin\\nstatistics\\nbecause\\nit\\ncan\\nbe\\nused\\nto\\n1.\\nIdentify\\nrelationships\\nbetween\\nvariables:\\nCorrelation\\ncan\\nbe\\nused\\nto\\nidentify\\nwhether\\nthere\\nis\\na\\nrelationship\\nbetween\\ntwo\\nvariables,\\nand\\nif\\nso,\\nwhether\\nthe\\nrelationship\\nis\\npositive\\nor\\nnegative.\\nThis\\ninformation\\ncan\\nbe\\nuseful\\nfor\\nunderstanding\\nthe\\nrelationships\\nbetween\\ndifferent\\nfactors\\nin\\na\\ncomplex\\nsystem.\\n2.\\nMake\\npredictions:\\nIf\\nthere\\nis\\na\\nstrong\\ncorrelation\\nbetween\\ntwo\\nvariables,\\nit\\nis\\npossible\\nto\\nuse\\nthe\\nvalue\\nof\\none\\nvariable\\nto\\npredict\\nthe\\nvalue\\nof\\nthe\\nother\\nvariable.\\nThis\\ncan\\nbe\\nuseful\\nfor\\nmaking\\npredictions\\nin\\na\\nvariety\\nof\\nfields,\\nsuch\\nas\\nbusiness,\\nfinance,\\nand\\nmedicine.\\n3.\\nDevelop\\ncausal\\nmodels:\\nCorrelation\\ncan\\nbe\\nused\\nas\\na\\nstarting\\npoint\\nfor\\ndeveloping\\ncausal\\nmodels,\\nwhich\\nare\\nmodels\\nthat\\ndescribe\\nhow\\nchanges\\nin\\none\\nvariable\\ncause\\nchanges\\nin\\nother\\nvariables.\\nCausal\\nmodels\\ncan\\nbe\\nused\\nto\\nmake\\nmore\\naccurate\\npredictions\\nand\\nto\\ndevelop\\ninterventions\\nto\\nchange\\nthe\\nvalues\\nof\\nspecific\\nvariables.Correlation\\nis\\nused\\nin\\na\\nwide\\nvariety\\nof\\nfields\\nincluding\\n1.\\nBusiness:\\nCorrelation\\ncan\\nbe\\nused\\nto\\nidentify\\nrelationships\\nbetween\\ndifferent\\nbusiness\\nvariables,\\nsuch\\nas\\nsales,\\nadvertising\\nspending,\\nand\\ncustomer\\nsatisfaction.\\nThis\\ninformation\\ncan\\nbe\\nused\\nto\\nmake\\nbetter\\nbusiness\\ndecisions,\\nsuch\\nas\\nhow\\nto\\nallocate\\nmarketing\\nresources.\\n2.\\nFinance:\\nCorrelation\\ncan\\nbe\\nused\\nto\\nidentify\\nrelationships\\nbetween\\ndifferent\\nfinancial\\nassets,\\nsuch\\nas\\nstocks,\\nbonds,\\nand\\ncommodities.\\nThis\\ninformation\\ncan\\nbe\\nused\\nto\\nbuild\\ndiversified\\nportfolios\\nthat\\nreduce\\nrisk.\\n3.\\nMedicine:\\nCorrelation\\ncan\\nbe\\nused\\nto\\nidentify\\nrelationships\\nbetween\\ndifferent\\nmedical\\nvariables,\\nsuch\\nas\\nrisk\\nfactors\\nfor\\ndiseases\\nand\\nthe\\neffectiveness\\nof\\ntreatments.\\nThis\\ninformation\\ncan\\nbe\\nused\\nto\\nimprove\\nthe\\nprevention,\\ndiagnosis,\\nand\\ntreatment\\nof\\ndiseases.\\n4.\\nPsychology:\\nCorrelation\\ncan\\nbe\\nused\\nto\\nidentify\\nrelationships\\nbetween\\ndifferent\\npsychological\\nvariables,\\nsuch\\nas\\npersonality\\ntraits,\\ncognitive\\nabilities,\\nand\\nmental\\ndisorders.\\nThis\\ninformation\\ncan\\nbe\\nused\\nto\\ndevelop\\nbetter\\npsychological\\nassessments\\nand\\ntreatments.\\nHow\\ncorrelation\\nis\\nused\\nin\\nthe\\nreal\\nworld\\n1.\\nA\\nmarketing\\nmanager\\nmight\\nuse\\ncorrelation\\nto\\nidentify\\nthe\\nrelationship\\nbetween\\nadvertising\\nspending\\nand\\nsales.\\nThis\\ninformation\\ncould\\nbe\\nused\\nto\\ndecide\\nhow\\nmuch\\nmoney\\nto\\nallocate\\nto\\nadvertising.\\n2.\\nA\\nfinancial\\nanalyst\\nmight\\nuse\\ncorrelation\\nto\\nidentify\\nthe\\nrelationship\\nbetween\\nthe\\nreturns\\nof\\ndifferent\\nstocks.\\nThis\\ninformation\\ncould\\nbeused\\nto\\nbuild\\na\\nportfolio\\nof\\nstocks\\nthat\\nis\\ndiversified\\nand\\nhas\\na\\nlower\\noverall\\nrisk.\\n3.\\nA\\nmedical\\nresearcher\\nmight\\nuse\\ncorrelation\\nto\\nidentify\\nthe\\nrelationship\\nbetween\\nsmoking\\nand\\nlung\\ncancer.\\nThis\\ninformation\\ncould\\nbe\\nused\\nto\\ndevelop\\npublic\\nhealth\\ncampaigns\\nto\\ndiscourage\\nsmoking.\\n4.\\nA\\npsychologist\\nmight\\nuse\\ncorrelation\\nto\\nidentify\\nthe\\nrelationship\\nbetween\\nanxiety\\nand\\ndepression.\\nThis\\ninformation\\ncould\\nbe\\nused\\nto\\ndevelop\\nmore\\neffective\\ntreatments\\nfor\\nanxiety\\nand\\ndepression.\\nConclusion\\nIt\\nis\\nimportant\\nto\\nnote\\nthat\\ncorrelation\\ndoes\\nnot\\nequal\\ncausation.\\nJust\\nbecause\\ntwo\\nvariables\\nare\\ncorrelated\\ndoes\\nnot\\nmean\\nthat\\none\\nvariable\\ncauses\\nthe\\nother .\\nFor\\nexample,\\nthere\\nis\\na\\nstrong\\ncorrelation\\nbetween\\nice\\ncream\\nsales\\nand\\nshark\\nattacks.\\nHowever ,\\nthis\\ndoes\\nnot\\nmean\\nthat\\neating\\nice\\ncream\\ncauses\\nshark\\nattacks.\\nInstead,\\nthere\\nis\\nlikely\\na\\nthird\\nvariable,\\nsuch\\nas\\nhot\\nweather ,\\nthat\\ncauses\\nboth\\nice\\ncream\\nsales\\nand\\nshark\\nattacks\\nto\\nincrease.\\nOverall,\\ncorrelation\\nis\\na\\npowerful\\nstatistical\\ntool\\nthat\\ncan\\nbe\\nused\\nto\\nidentify\\nrelationships\\nbetween\\nvariables,\\nmake\\npredictions,\\nand\\ndevelop\\ncausal\\nmodels.\\nIt\\nis\\nused\\nin\\na\\nwide\\nvariety\\nof\\nfields\\nto\\nmake\\nbetter\\ndecisions\\nand\\nimprove\\noutcomes.']"
      ]
     },
     "execution_count": 35,
     "metadata": {},
     "output_type": "execute_result"
    }
   ],
   "source": [
    "chunk_ques_gen  = splitter_ques_gen.split_text(question_gen)\n",
    "chunk_ques_gen"
   ]
  },
  {
   "cell_type": "code",
   "execution_count": 36,
   "metadata": {},
   "outputs": [
    {
     "data": {
      "text/plain": [
       "str"
      ]
     },
     "execution_count": 36,
     "metadata": {},
     "output_type": "execute_result"
    }
   ],
   "source": [
    "type(chunk_ques_gen[0])"
   ]
  },
  {
   "cell_type": "code",
   "execution_count": 37,
   "metadata": {},
   "outputs": [],
   "source": [
    "from langchain.docstore.document import Document\n",
    "\n",
    "document_ques_gen = [Document(page_content=text) for text in chunk_ques_gen]"
   ]
  },
  {
   "cell_type": "code",
   "execution_count": 10,
   "metadata": {},
   "outputs": [
    {
     "data": {
      "text/plain": [
       "[Document(page_content='IN THE YEAR 2015, LEADERS FROM 193 COUNTRIES OF THE WORLD \\nCAME TOGETHER TO FACE THE FUTURE.\\nAnd what they saw was daunting. Famines. Drought. Wars. Plagues. Poverty. \\nNot just in some faraway place, but in their own cities and towns and villages.\\nThey knew things didn’t have to be this way. They knew we had enough  \\nfood to feed the world, but that it wasn’t getting shared. They knew there \\nwere medicines for HIV and other diseases, but they cost a lot. They knew  \\nthat earthquakes and floods were inevitable, but that the high death  \\ntolls were not. \\nThey also knew that billions of people worldwide shared their hope for a \\nbetter future.\\nSo leaders from these countries created a plan called the Sustainable \\nDevelopment Goals (SDGs). This set of 17 goals imagines a future just 15 years \\noff that would be rid of poverty and hunger, and safe from the worst effects of \\nclimate change. It’s an ambitious plan. \\nBut there’s ample evidence that we can succeed. In the past 15 years, the \\ninternational community cut extreme poverty in half. \\nNow we can finish the job.\\nThe United Nations Development Programme (UNDP) is one of the leading \\norganizations working to fulfil the SDGs by the year 2030. Present in nearly \\n170 countries and territories, we help nations make the Goals a reality.  \\nWe also champion the Goals so that people everywhere know how to  \\ndo their part. \\nUNDP is proud to continue as a leader in this global movement.\\nLearn about the Sustainable Development Goals.  What’s your Goal? END EXTREME POVERTY IN ALL FORMS  \\nBY 2030.\\nYes, it’s an ambitious goal—but we believe it can be done. In 2000, the \\nworld committed to halving the number of people living in extreme \\npoverty by the year 2015 and we met this goal. However, more than \\n800 million people around the world still live on less than $1.25 a day—\\nthat’s about the equivalent of the entire population of Europe living in \\nextreme poverty. Now it’s time to build on what we learned and end \\npoverty altogether. END HUNGER, ACHIEVE FOOD SECURITY \\nAND IMPROVED NUTRITION AND PROMOTE \\nSUSTAINABLE AGRICUL TURE\\nIn the past 20 years, hunger has dropped by almost half. Many \\ncountries that used to suffer from famine and hunger can now \\nmeet the nutritional needs of their most vulnerable people. It’s an \\nincredible accomplishment. Now we can go further and end hunger \\nand malnutrition once and for all. That means doing things such as \\npromoting sustainable agriculture and supporting small farmers. It’s a tall \\norder. But for the sake of the nearly 1 out of every 9 people on earth who \\ngo to bed hungry every night, we’ve got to try. Imagine a world where \\neveryone has access to sufficient and nutritious food all year round. \\nTogether, we can make that a reality by 2030. ENSURE HEAL THY LIVES AND PROMOTE \\nWELL-BEING FOR ALL AT ALL AGES\\nWe all know how important it is to be in good health. Our health affects \\neverything from how much we enjoy life to what work we can perform. \\nThat’s why there’s a Goal to make sure everyone has health coverage \\nand access to safe and effective medicines and vaccines. In the 25 \\nyears before the SDGs, we made big strides—preventable child deaths \\ndropped by more than half, and maternal mortality went down by \\nalmost as much. And yet some other numbers remain tragically high, like \\nthe fact that 6 million children die every year before their fifth birthday, \\nor that AIDS is the leading cause of death for adolescents in sub-Saharan \\nAfrica. We have the means to turn that around and make good health \\nmore than just a wish.ENSURE INCLUSIVE AND EQUITABLE QUALITY \\nEDUCATION AND PROMOTE LIFELONG \\nLEARNING OPPORTUNITIES FOR ALL  \\nFirst, the bad news on education. Poverty, armed conflict and other \\nemergencies keep many, many kids around the world out of school. In \\nfact, kids from the poorest households are four times more likely to be \\nout of school than those of the richest households. Now for some good \\nnews. Since 2000, there has been enormous progress on the goal to \\nprovide primary education to all children worldwide: the total enrolment \\nrate in developing regions has reached 91%. By measures in any school, \\nthat’s a good grade. Now, let’s get an even better grade for all kids, \\nand achieve the goal of universal primary and secondary education, \\naffordable vocational training, access to higher education and more.We can celebrate the great progress the world has made in becoming \\nmore prosperous and fair. But there’s a shadow to the celebration. In \\njust about every way, women and girls lag behind. There are still gross \\ninequalities in work and wages, lots of unpaid “women’s work” such as \\nchild care and domestic work, and discrimination in public decision-\\nmaking. But there are grounds for hope. More girls are in school now \\ncompared to in 2000. Most regions have reached gender parity in \\nprimary education. The percentage of women getting paid for their work \\nis on the rise. The Sustainable Development Goals aim to build on these \\nachievements to ensure that there is an end to discrimination against \\nwomen and girls everywhere.ACHIEVE GENDER EQUALITY AND  \\nEMPOWER ALL WOMEN AND GIRLS Everyone on earth should have access to safe and affordable drinking \\nwater. That’s the goal for 2030. While many people take clean drinking \\nwater and sanitation for granted, many others don’t. Water scarcity \\naffects more than 40 percent of people around the world, and that \\nnumber is projected to go even higher as a result of climate change. \\nIf we continue the path we’re on, by 2050 at least one in four people \\nare likely to be affected by recurring water shortages. But we can take \\na new path—more international cooperation, protecting wetlands \\nand rivers, sharing water-treatment technologies—that leads to \\naccomplishing this Goal. ENSURE AVAILABILITY AND SUSTAINABLE \\nMANAGEMENT OF WATER AND SANITATION \\nFOR ALL  ENSURE ACCESS TO AFFORDABLE, RELIABLE, \\nSUSTAINABLE AND MODERN ENERGY FOR \\nALL \\nBetween 1990 and 2010, the number of people with access to electricity \\nincreased by 1.7 billion. That’s progress to be proud of. And yet as the \\nworld’s population continues to rise, still more people will need cheap \\nenergy to light their homes and streets, use phones and computers, \\nand do their everyday business. How we get that energy is at issue; fossil \\nfuels and greenhouse gas emissions are making drastic changes in the \\nclimate, leading to big problems on every continent. Instead, we can \\nbecome more energy-efficient and invest in clean energy sources such \\nas solar and wind. That way we’ll meet electricity needs and protect the \\nenvironment. How’s that for a balancing act?PROMOTE SUSTAINED, INCLUSIVE AND \\nSUSTAINABLE ECONOMIC GROWTH, FULL \\nAND PRODUCTIVE EMPLOYMENT AND \\nDECENT WORK FOR ALL \\nAn important part of economic growth is that people have jobs that \\npay enough to support themselves and their families. The good news \\nis that the middle class is growing worldwide—almost tripling in size \\nin developing countries in the last 25 years, to more than a third of the \\npopulation. But today, job growth is not keeping pace with the growing \\nlabour force. Things don’t have to be that way. We can promote policies \\nthat encourage entrepreneurship and job creation. We can eradicate \\nforced labour, slavery and human trafficking. And in the end we can \\nachieve the goal of decent work for all women and men by 2030.BUILD RESILIENT INFRASTRUCTURE, \\nPROMOTE INCLUSIVE AND SUSTAINABLE \\nINDUSTRIALIZATION AND FOSTER \\nINNOVATION \\nTechnological progress helps us address big global challenges such as \\ncreating jobs and becoming more energy efficient. For example, the \\nworld is becoming ever more interconnected and prosperous thanks to \\nthe internet. The more connected we are, the more we can all benefit \\nfrom the wisdom and contributions of people everywhere on earth.  And \\nyet four billion people have no way of getting online, the vast majority \\nof them in developing countries. The more we invest in innovation \\nand infrastructure, the better off we’ll all be. Bridging the digital divide, \\npromoting sustainable industries, and investing in scientific research and \\ninnovation are all important ways to facilitate sustainable development.REDUCE INEQUALITY WITHIN AND AMONG \\nCOUNTRIES  \\nIt’s an old story: the rich get richer, and the poor get poorer. The divide \\nhas never been starker. We can and must adopt policies that create \\nopportunity for everyone, regardless of who they are or where they \\ncome from. Income inequality is a global problem that requires global \\nsolutions. That means improving the regulation of financial markets \\nand institutions, sending development aid where it is most needed \\nand helping people migrate safely so they can pursue opportunities. \\nTogether, we can now change the direction of the old story of inequality. MAKE CITIES AND HUMAN SETTLEMENTS \\nINCLUSIVE, SAFE, RESILIENT AND \\nSUSTAINABLE \\nIf you’re like most people, you live in a city. More than half the world’s \\npopulation now lives in cities, and that figure will go to about two-thirds \\nof humanity by the year 2050. Cities are getting bigger. In 1990 there \\nwere ten “mega-cities” with 10 million inhabitants or more. In 2014, there \\nwere 28 mega-cities, home to 453 million people. Incredible, huh? A lot \\nof people love cities; they’re centers of culture and business and life. The \\nthing is, they’re also often centers of extreme poverty. To make cities \\nsustainable for all, we can create good, affordable public housing. We \\ncan upgrade slum settlements. We can invest in public transport, create \\ngreen spaces, and get a broader range of people involved in urban \\nplanning decisions. That way, we can keep the things we love about \\ncities, and change the things we don’t.ENSURE SUSTAINABLE CONSUMPTION AND \\nPRODUCTION PATTERNS\\nSome people use a lot of stuff, and some people use very little—in fact, \\na big share of the world population is consuming too little to meet even \\ntheir basic needs. Instead, we can have a world where everybody gets \\nwhat they need to survive and thrive. And we can consume in a way \\nthat preserves our natural resources so that our children can enjoy them, \\nand their children and their children after that. The hard part is how to \\nachieve that goal. We can manage our natural resources more efficiently \\nand dispose of toxic waste better. Cut per capita food waste in half \\nglobally. Get businesses and consumers to reduce and recycle waste. \\nAnd help countries that have typically not consumed a lot to move \\ntowards more responsible consumption patterns.TAKE URGENT ACTION TO COMBAT CLIMATE \\nCHANGE AND ITS IMPACTS\\nEvery country in the world is seeing the drastic effects of climate \\nchange, some more than others. On average, the annual losses just \\nfrom earthquakes, tsunamis, tropical cyclones and flooding count in the \\nhundreds of billions of dollars. We can reduce the loss of life and property \\nby helping more vulnerable regions—such as land-locked countries \\nand island states—become more resilient. It is still possible, with the \\npolitical will and technological measures, to limit the increase in global \\nmean temperature to two degrees Celsius above pre-industrial levels—\\nand thus avoid the worst effects of climate change. The Sustainable \\nDevelopment Goals lay out a way for countries to work together to meet \\nthis urgent challenge. CONSERVE AND SUSTAINABLY USE THE \\nOCEANS, SEAS AND MARINE RESOURCES \\nFOR SUSTAINABLE DEVELOPMENT\\nThe oceans make human life possible. Their temperature, their chemistry, \\ntheir currents, their life forms. For one thing, more than 3 billion people \\ndepend on marine and coastal diversity for their livelihoods. But today \\nwe are seeing nearly a third of the world’s fish stocks overexploited. \\nThat’s not a sustainable way of life. Even people who live nowhere near \\nthe ocean can’t live without it. Oceans absorb about 30 percent of the \\ncarbon dioxide that humans produce; but we’re producing more carbon \\ndioxide than ever before and that makes the oceans more acidic—26% \\nmore, since the start of the industrial revolution. Our trash doesn’t help \\neither—13,000 pieces of plastic litter on every square kilometer of ocean. \\nSounds bad, right? Don’t despair! The Sustainable Development Goals \\nindicate targets for managing and protecting life below water. PROTECT, RESTORE AND PROMOTE \\nSUSTAINABLE USE OF TERRESTRIAL \\nECOSYSTEMS, SUSTAINABLY MANAGE \\nFORESTS, COMBAT DESERTIFICATION, AND \\nHAL T AND REVERSE LAND DEGRADATION \\nAND HAL T BIODIVERSITY LOSS \\nHumans and other animals rely on other forms of life on land for food, \\nclean air, clean water, and as a means of combatting climate change. \\nPlant life makes up 80% of the human diet. Forests, which cover 30% \\nof the Earth’s surface, help keep the air and water clean and the Earth’s \\nclimate in balance. That’s not to mention they’re home to millions of \\nanimal species. But the land and life on it are in trouble. Arable land \\nis disappearing 30 to 35 times faster than it has historically. Deserts \\nare spreading. Animal breeds are going extinct. We can turn these \\ntrends around. Fortunately, the Sustainable Development Goals aim to \\nconserve and restore the use of terrestrial ecosystems such as forests, \\nwetlands, drylands and mountains by 2030. PROMOTE PEACEFUL AND INCLUSIVE \\nSOCIETIES FOR SUSTAINABLE \\nDEVELOPMENT, PROVIDE ACCESS TO \\nJUSTICE FOR ALL AND BUILD EFFECTIVE, \\nACCOUNTABLE AND INCLUSIVE \\nINSTITUTIONS AT ALL LEVELS \\nHow can a country develop—how can people eat and teach and learn \\nand work and raise families—without peace? And how can a country \\nhave peace without justice, without human rights, without government \\nbased on the rule of law? Some parts of the world enjoy relative peace \\nand justice, and may come to take it for granted. Other parts seem to \\nbe plagued by armed conflict, crime, torture and exploitation, all of \\nwhich hinders their development. The goal of peace and justice is one \\nfor all countries to strive towards. The Sustainable Development Goals \\naim to reduce all forms of violence and propose that governments \\nand communities find lasting solutions to conflict and insecurity. That \\nmeans strengthening the rule of law, reducing the flow of illicit arms, \\nand bringing developing countries more into the center of institutions \\nof global governance.STRENGTHEN THE MEANS OF \\nIMPLEMENTATION AND REVITALIZE THE \\nGLOBAL PARTNERSHIP FOR SUSTAINABLE \\nDEVELOPMENT \\nThe Sustainable Development Goals are pretty big to-do list, don’t you \\nthink? In fact, it’s so big, you may just want to throw your hands up in the \\nair. “Forget it! Can’t be done! Why even try!” But we’ve got a lot going for \\nus. The world is more interconnected today than ever before, thanks to \\nthe internet, travel and global institutions. There’s a growing consensus \\nabout the need to work together to stop climate change. And the \\nSustainable Development Goals are no small matter either. 193 countries \\nagreed on these goals. Pretty incredible, isn’t it? 193 countries agreeing \\non anything? The final goal lays out a way for nations to work together to \\nachieve all the other Goals. Go shopping  Make a donation  \\nStart a fundraiser  \\nSpread the word  Visit shop.undp.org for SDG merchandise, and show off the goals you’re \\nmost passionate about. Money doesn’t just make the world go around; it’s also the most direct \\nway to reduce and eradicate all forms of poverty.\\nFundraising is a great way to raise money, create awareness, and inspire \\nothers. Plus, it’s fun!\\nSearch for @UNDP on Twitter, Facebook and Instagram, and share the \\ncontent you love.\\nTo donate or learn more about fundraising, visit undp.org/takeactionThere are many ways to show your support and help us reach \\nthe Sustainable Development Goals by 2030. Here are a few :WHA T CAN  \\nI DO TO HELP?NOTESNOTES')]"
      ]
     },
     "execution_count": 10,
     "metadata": {},
     "output_type": "execute_result"
    }
   ],
   "source": [
    "document_ques_gen"
   ]
  },
  {
   "cell_type": "code",
   "execution_count": 39,
   "metadata": {},
   "outputs": [],
   "source": [
    "splitter_ans_gen = TokenTextSplitter(\n",
    "    model_name= \"gpt-3.5-turbo\",\n",
    "    chunk_size = 800,\n",
    "    chunk_overlap = 100\n",
    ")\n",
    "#Using TokenTextSplitter we pass one model which will take care for chunking the text keeping context of the chunks\n",
    "#In CharacterTextSplitter we don't pass any model. This splits based on a given character sequence, which defaults to \"\\n\\n\"\n",
    "\n",
    "document_ans_gen = splitter_ans_gen.split_documents(document_ques_gen)"
   ]
  },
  {
   "cell_type": "code",
   "execution_count": 40,
   "metadata": {},
   "outputs": [
    {
     "data": {
      "text/plain": [
       "[Document(page_content='Importance\\nand\\nthe\\nuse\\nof\\ncorrelation\\nin\\nStatistics\\nIntroduction\\nCorrelation\\nis\\na\\nstatistical\\nmeasure\\nthat\\nexpresses\\nthe\\nextent\\nto\\nwhich\\ntwo\\nvariables\\nare\\nlinearly\\nrelated.\\nIt\\nis\\na\\ncommon\\ntool\\nfor\\ndescribing\\nsimple\\nrelationships\\nwithout\\nmaking\\na\\nstatement\\nabout\\ncause\\nand\\neffect.\\nCorrelation\\ncoefficients\\nrange\\nfrom\\n-1\\nto\\n1,\\nwith\\na\\nvalue\\nof\\n0\\nindicating\\nno\\nlinear\\nrelationship\\nbetween\\nthe\\ntwo\\nvariables,\\na\\nvalue\\nof\\n1\\nindicating\\na\\nperfect\\npositive\\nlinear\\nrelationship,\\nand\\na\\nvalue\\nof\\n-1\\nindicating\\na\\nperfect\\nnegative\\nlinear\\nrelationship.\\nCorrelation\\nis\\nimportant\\nin\\nstatistics\\nbecause\\nit\\ncan\\nbe\\nused\\nto\\n1.\\nIdentify\\nrelationships\\nbetween\\nvariables:\\nCorrelation\\ncan\\nbe\\nused\\nto\\nidentify\\nwhether\\nthere\\nis\\na\\nrelationship\\nbetween\\ntwo\\nvariables,\\nand\\nif\\nso,\\nwhether\\nthe\\nrelationship\\nis\\npositive\\nor\\nnegative.\\nThis\\ninformation\\ncan\\nbe\\nuseful\\nfor\\nunderstanding\\nthe\\nrelationships\\nbetween\\ndifferent\\nfactors\\nin\\na\\ncomplex\\nsystem.\\n2.\\nMake\\npredictions:\\nIf\\nthere\\nis\\na\\nstrong\\ncorrelation\\nbetween\\ntwo\\nvariables,\\nit\\nis\\npossible\\nto\\nuse\\nthe\\nvalue\\nof\\none\\nvariable\\nto\\npredict\\nthe\\nvalue\\nof\\nthe\\nother\\nvariable.\\nThis\\ncan\\nbe\\nuseful\\nfor\\nmaking\\npredictions\\nin\\na\\nvariety\\nof\\nfields,\\nsuch\\nas\\nbusiness,\\nfinance,\\nand\\nmedicine.\\n3.\\nDevelop\\ncausal\\nmodels:\\nCorrelation\\ncan\\nbe\\nused\\nas\\na\\nstarting\\npoint\\nfor\\ndeveloping\\ncausal\\nmodels,\\nwhich\\nare\\nmodels\\nthat\\ndescribe\\nhow\\nchanges\\nin\\none\\nvariable\\ncause\\nchanges\\nin\\nother\\nvariables.\\nCausal\\nmodels\\ncan\\nbe\\nused\\nto\\nmake\\nmore\\naccurate\\npredictions\\nand\\nto\\ndevelop\\ninterventions\\nto\\nchange\\nthe\\nvalues\\nof\\nspecific\\nvariables.Correlation\\nis\\nused\\nin\\na\\nwide\\nvariety\\nof\\nfields\\nincluding\\n1.\\nBusiness:\\nCorrelation\\ncan\\nbe\\nused\\nto\\nidentify\\nrelationships\\nbetween\\ndifferent\\nbusiness\\nvariables,\\nsuch\\nas\\nsales,\\nadvertising\\nspending,\\nand\\ncustomer\\nsatisfaction.\\nThis\\ninformation\\ncan\\nbe\\nused\\nto\\nmake\\nbetter\\nbusiness\\ndecisions,\\nsuch\\nas\\nhow\\nto\\nallocate\\nmarketing\\nresources.\\n2.\\nFinance:\\nCorrelation\\ncan\\nbe\\nused\\nto\\nidentify\\nrelationships\\nbetween\\ndifferent\\nfinancial\\nassets,\\nsuch\\nas\\nstocks,\\nbonds,\\nand\\ncommodities.\\nThis\\ninformation\\ncan\\nbe\\nused\\nto\\nbuild\\ndiversified\\nportfolios\\nthat\\nreduce\\nrisk.\\n3.\\nMedicine:\\nCorrelation\\ncan\\nbe\\nused\\nto\\nidentify\\nrelationships\\nbetween\\ndifferent\\nmedical\\nvariables,\\nsuch\\nas\\nrisk\\nfactors\\nfor\\ndiseases\\nand\\nthe\\neffectiveness\\nof\\ntreatments.\\nThis\\ninformation\\ncan\\nbe\\nused\\nto\\nimprove\\nthe\\nprevention,\\ndiagnosis,\\nand\\ntreatment\\nof\\ndiseases.\\n4.\\nPsychology:\\nCorrelation\\ncan\\nbe\\nused\\nto\\nidentify\\nrelationships\\nbetween\\ndifferent\\npsychological\\nvariables,\\nsuch'),\n",
       " Document(page_content='between\\ndifferent\\nmedical\\nvariables,\\nsuch\\nas\\nrisk\\nfactors\\nfor\\ndiseases\\nand\\nthe\\neffectiveness\\nof\\ntreatments.\\nThis\\ninformation\\ncan\\nbe\\nused\\nto\\nimprove\\nthe\\nprevention,\\ndiagnosis,\\nand\\ntreatment\\nof\\ndiseases.\\n4.\\nPsychology:\\nCorrelation\\ncan\\nbe\\nused\\nto\\nidentify\\nrelationships\\nbetween\\ndifferent\\npsychological\\nvariables,\\nsuch\\nas\\npersonality\\ntraits,\\ncognitive\\nabilities,\\nand\\nmental\\ndisorders.\\nThis\\ninformation\\ncan\\nbe\\nused\\nto\\ndevelop\\nbetter\\npsychological\\nassessments\\nand\\ntreatments.\\nHow\\ncorrelation\\nis\\nused\\nin\\nthe\\nreal\\nworld\\n1.\\nA\\nmarketing\\nmanager\\nmight\\nuse\\ncorrelation\\nto\\nidentify\\nthe\\nrelationship\\nbetween\\nadvertising\\nspending\\nand\\nsales.\\nThis\\ninformation\\ncould\\nbe\\nused\\nto\\ndecide\\nhow\\nmuch\\nmoney\\nto\\nallocate\\nto\\nadvertising.\\n2.\\nA\\nfinancial\\nanalyst\\nmight\\nuse\\ncorrelation\\nto\\nidentify\\nthe\\nrelationship\\nbetween\\nthe\\nreturns\\nof\\ndifferent\\nstocks.\\nThis\\ninformation\\ncould\\nbeused\\nto\\nbuild\\na\\nportfolio\\nof\\nstocks\\nthat\\nis\\ndiversified\\nand\\nhas\\na\\nlower\\noverall\\nrisk.\\n3.\\nA\\nmedical\\nresearcher\\nmight\\nuse\\ncorrelation\\nto\\nidentify\\nthe\\nrelationship\\nbetween\\nsmoking\\nand\\nlung\\ncancer.\\nThis\\ninformation\\ncould\\nbe\\nused\\nto\\ndevelop\\npublic\\nhealth\\ncampaigns\\nto\\ndiscourage\\nsmoking.\\n4.\\nA\\npsychologist\\nmight\\nuse\\ncorrelation\\nto\\nidentify\\nthe\\nrelationship\\nbetween\\nanxiety\\nand\\ndepression.\\nThis\\ninformation\\ncould\\nbe\\nused\\nto\\ndevelop\\nmore\\neffective\\ntreatments\\nfor\\nanxiety\\nand\\ndepression.\\nConclusion\\nIt\\nis\\nimportant\\nto\\nnote\\nthat\\ncorrelation\\ndoes\\nnot\\nequal\\ncausation.\\nJust\\nbecause\\ntwo\\nvariables\\nare\\ncorrelated\\ndoes\\nnot\\nmean\\nthat\\none\\nvariable\\ncauses\\nthe\\nother .\\nFor\\nexample,\\nthere\\nis\\na\\nstrong\\ncorrelation\\nbetween\\nice\\ncream\\nsales\\nand\\nshark\\nattacks.\\nHowever ,\\nthis\\ndoes\\nnot\\nmean\\nthat\\neating\\nice\\ncream\\ncauses\\nshark\\nattacks.\\nInstead,\\nthere\\nis\\nlikely\\na\\nthird\\nvariable,\\nsuch\\nas\\nhot\\nweather ,\\nthat\\ncauses\\nboth\\nice\\ncream\\nsales\\nand\\nshark\\nattacks\\nto\\nincrease.\\nOverall,\\ncorrelation\\nis\\na\\npowerful\\nstatistical\\ntool\\nthat\\ncan\\nbe\\nused\\nto\\nidentify\\nrelationships\\nbetween\\nvariables,\\nmake\\npredictions,\\nand\\ndevelop\\ncausal\\nmodels.\\nIt\\nis\\nused\\nin\\na\\nwide\\nvariety\\nof\\nfields\\nto\\nmake\\nbetter\\ndecisions\\nand\\nimprove\\noutcomes.')]"
      ]
     },
     "execution_count": 40,
     "metadata": {},
     "output_type": "execute_result"
    }
   ],
   "source": [
    "document_ans_gen"
   ]
  },
  {
   "cell_type": "code",
   "execution_count": 41,
   "metadata": {},
   "outputs": [],
   "source": [
    "from langchain.chat_models import ChatOpenAI\n",
    "\n",
    "llm_ques_gen_pipeline = ChatOpenAI(\n",
    "    model = \"gpt-3.5-turbo\",\n",
    "    temperature = 0.3 # close to 1 gives more creative and accurate result\n",
    ")"
   ]
  },
  {
   "cell_type": "code",
   "execution_count": 42,
   "metadata": {},
   "outputs": [],
   "source": [
    "prompt_template = \"\"\"\n",
    "You are an expert at creating questions based on coding materials and documentation.\n",
    "Your goal is to prepare a coder or programmer for their exam and coding tests.\n",
    "You do this by asking questions about the text below:\n",
    "\n",
    "------------\n",
    "{text}\n",
    "------------\n",
    "\n",
    "Create questions that will prepare the coders or programmers for their tests.\n",
    "Make sure not to lose any important information.\n",
    "\n",
    "QUESTIONS:\n",
    "\"\"\""
   ]
  },
  {
   "cell_type": "code",
   "execution_count": 43,
   "metadata": {},
   "outputs": [],
   "source": [
    "from langchain.prompts import PromptTemplate"
   ]
  },
  {
   "cell_type": "code",
   "execution_count": 44,
   "metadata": {},
   "outputs": [],
   "source": [
    "PROMPT_QUESTIONS = PromptTemplate(template=prompt_template, input_variables=['text'])"
   ]
  },
  {
   "cell_type": "code",
   "execution_count": 45,
   "metadata": {},
   "outputs": [],
   "source": [
    "refine_template = (\"\"\"\n",
    "You are an expert at creating practice questions based on coding material and documentation.\n",
    "Your goal is to help a coder or programmer prepare for a coding test.\n",
    "We have received some practice questions to a certain extent: {existing_answer}.\n",
    "We have the option to refine the existing questions or add new ones.\n",
    "(only if necessary) with some more context below.\n",
    "------------\n",
    "{text}\n",
    "------------\n",
    "\n",
    "Given the new context, refine the original questions in English.\n",
    "If the context is not helpful, please provide the original questions.\n",
    "QUESTIONS:\n",
    "\"\"\"\n",
    ")"
   ]
  },
  {
   "cell_type": "code",
   "execution_count": 46,
   "metadata": {},
   "outputs": [],
   "source": [
    "REFINED_PROMPT_QUESTION = PromptTemplate(\n",
    "    template=refine_template,\n",
    "    input_variables=['existing_answer','text'])"
   ]
  },
  {
   "cell_type": "code",
   "execution_count": 47,
   "metadata": {},
   "outputs": [],
   "source": [
    "from langchain.chains.summarize import load_summarize_chain"
   ]
  },
  {
   "cell_type": "code",
   "execution_count": 68,
   "metadata": {},
   "outputs": [],
   "source": [
    "ques_gen_chain = load_summarize_chain(llm=llm_ques_gen_pipeline, \n",
    "                                      chain_type='refine', \n",
    "                                      #verbose=True, #to print log in the console                                      \n",
    "                                      question_prompt = PROMPT_QUESTIONS,\n",
    "                                      refine_prompt = REFINED_PROMPT_QUESTION)"
   ]
  },
  {
   "cell_type": "code",
   "execution_count": 69,
   "metadata": {},
   "outputs": [
    {
     "name": "stdout",
     "output_type": "stream",
     "text": [
      "1. What is correlation in statistics and how is it measured?\n",
      "2. Explain the range of correlation coefficients and what each value indicates.\n",
      "3. How can correlation be used to identify relationships between variables?\n",
      "4. In what ways can correlation be utilized to make predictions in various fields?\n",
      "5. Describe how correlation can be used as a starting point for developing causal models.\n",
      "6. Provide examples of how correlation is used in business, finance, medicine, and psychology.\n",
      "7. How can correlation be applied in the real world by a marketing manager, financial analyst, medical researcher, and psychologist?\n",
      "8. Why is it important to note that correlation does not equal causation?\n",
      "9. Explain the example given about ice cream sales and shark attacks to illustrate the concept of correlation not implying causation.\n",
      "10. In conclusion, why is correlation considered a powerful statistical tool and how is it used to improve decision-making and outcomes in various fields?\n"
     ]
    }
   ],
   "source": [
    "ques = ques_gen_chain.run(document_ques_gen)\n",
    "print(ques)"
   ]
  },
  {
   "cell_type": "code",
   "execution_count": 70,
   "metadata": {},
   "outputs": [],
   "source": [
    "from langchain.embeddings import OpenAIEmbeddings"
   ]
  },
  {
   "cell_type": "code",
   "execution_count": 71,
   "metadata": {},
   "outputs": [],
   "source": [
    "embedding = OpenAIEmbeddings()\n"
   ]
  },
  {
   "cell_type": "code",
   "execution_count": 72,
   "metadata": {},
   "outputs": [],
   "source": [
    "from langchain.vectorstores import FAISS"
   ]
  },
  {
   "cell_type": "code",
   "execution_count": 73,
   "metadata": {},
   "outputs": [
    {
     "data": {
      "text/plain": [
       "<langchain_community.vectorstores.faiss.FAISS at 0x24553567cd0>"
      ]
     },
     "execution_count": 73,
     "metadata": {},
     "output_type": "execute_result"
    }
   ],
   "source": [
    "vector_store = FAISS.from_documents(document_ans_gen, embedding)"
   ]
  },
  {
   "cell_type": "code",
   "execution_count": 74,
   "metadata": {},
   "outputs": [],
   "source": [
    "llm_answer_gen = ChatOpenAI(temperature=0.3, model='gpt-3.5-turbo')"
   ]
  },
  {
   "cell_type": "code",
   "execution_count": 75,
   "metadata": {},
   "outputs": [],
   "source": [
    "from langchain.chains import RetrievalQA\n",
    "#from langchain.chains import RetrievalQAWithSourcesChain\n",
    "\n",
    "answer_genration_chain = RetrievalQA.from_chain_type(llm=llm_answer_gen, \n",
    "                                                      chain_type = \"stuff\", \n",
    "                                                      retriever=vector_store.as_retriever())"
   ]
  },
  {
   "cell_type": "code",
   "execution_count": 79,
   "metadata": {},
   "outputs": [
    {
     "name": "stdout",
     "output_type": "stream",
     "text": [
      "Question: 1. What is correlation in statistics and how is it measured?\n",
      "Answer : Correlation in statistics is a measure that expresses the extent to which two variables are linearly related. It is used to identify relationships between variables without making a statement about cause and effect. Correlation coefficients range from -1 to 1, with 0 indicating no linear relationship, 1 indicating a perfect positive linear relationship, and -1 indicating a perfect negative linear relationship.\n",
      "-----------------------------------------------------------------\n",
      "Question: 2. Explain the range of correlation coefficients and what each value indicates.\n",
      "Answer : The range of correlation coefficients is from -1 to 1. Here is what each value indicates:\n",
      "\n",
      "- A correlation coefficient of 0 indicates no linear relationship between the two variables.\n",
      "- A correlation coefficient of 1 indicates a perfect positive linear relationship, meaning that as one variable increases, the other variable also increases proportionally.\n",
      "- A correlation coefficient of -1 indicates a perfect negative linear relationship, meaning that as one variable increases, the other variable decreases proportionally.\n",
      "\n",
      "These values help to understand the strength and direction of the relationship between the variables being studied.\n",
      "-----------------------------------------------------------------\n",
      "Question: 3. How can correlation be used to identify relationships between variables?\n",
      "Answer : Correlation can be used to identify relationships between variables by measuring the extent to which two variables are linearly related. A correlation coefficient ranging from -1 to 1 indicates the strength and direction of the relationship. A value of 0 indicates no linear relationship, 1 indicates a perfect positive linear relationship, and -1 indicates a perfect negative linear relationship. By analyzing the correlation coefficient, researchers can determine if there is a positive, negative, or no relationship between the variables, helping to understand the connections between different factors in a system.\n",
      "-----------------------------------------------------------------\n",
      "Question: 4. In what ways can correlation be utilized to make predictions in various fields?\n",
      "Answer : Correlation can be utilized to make predictions in various fields by identifying strong relationships between variables. Once a strong correlation is established, the value of one variable can be used to predict the value of the other variable. This predictive power of correlation can be applied in fields such as business, finance, medicine, and psychology to forecast outcomes and make informed decisions based on the relationships between different factors.\n",
      "-----------------------------------------------------------------\n",
      "Question: 5. Describe how correlation can be used as a starting point for developing causal models.\n",
      "Answer : Correlation can be used as a starting point for developing causal models by identifying relationships between variables. When two variables are found to be correlated, it suggests that changes in one variable may be associated with changes in the other. This correlation can lead researchers to investigate potential causal relationships between the variables. By further analyzing the data and considering additional factors, researchers can develop causal models that describe how changes in one variable may cause changes in another. These causal models can then be used to make more accurate predictions and develop interventions to influence specific variables.\n",
      "-----------------------------------------------------------------\n",
      "Question: 6. Provide examples of how correlation is used in business, finance, medicine, and psychology.\n",
      "Answer : In business, correlation can be used to identify relationships between variables like sales, advertising spending, and customer satisfaction. This information helps in making better business decisions, such as how to allocate marketing resources.\n",
      "\n",
      "In finance, correlation is used to identify relationships between different financial assets like stocks, bonds, and commodities. This information is crucial for building diversified portfolios that reduce risk.\n",
      "\n",
      "In medicine, correlation is utilized to identify relationships between various medical variables such as risk factors for diseases and treatment effectiveness. This information is valuable for improving disease prevention, diagnosis, and treatment.\n",
      "\n",
      "In psychology, correlation is employed to identify relationships between different psychological variables like personality traits, cognitive abilities, and mental disorders. This information is essential for developing better psychological assessments and treatments.\n",
      "-----------------------------------------------------------------\n",
      "Question: 7. How can correlation be applied in the real world by a marketing manager, financial analyst, medical researcher, and psychologist?\n",
      "Answer : Correlation can be applied in the real world by professionals in various fields:\n",
      "\n",
      "1. **Marketing Manager**: A marketing manager can use correlation to identify the relationship between advertising spending and sales. This information could help in deciding how much money to allocate to advertising.\n",
      "\n",
      "2. **Financial Analyst**: A financial analyst can use correlation to identify the relationship between the returns of different stocks. This information could be used to build a diversified portfolio of stocks with lower overall risk.\n",
      "\n",
      "3. **Medical Researcher**: A medical researcher can use correlation to identify the relationship between variables like smoking and lung cancer. This information could be used to develop public health campaigns to discourage smoking.\n",
      "\n",
      "4. **Psychologist**: A psychologist can use correlation to identify the relationship between variables like anxiety and depression. This information could be used to develop more effective treatments for anxiety and depression.\n",
      "-----------------------------------------------------------------\n",
      "Question: 8. Why is it important to note that correlation does not equal causation?\n",
      "Answer : It is important to note that correlation does not equal causation because just because two variables are correlated, it does not necessarily mean that one variable causes the other. There could be other factors or variables at play that are influencing the relationship between the two variables. Making assumptions about causation based solely on correlation can lead to incorrect conclusions and decisions.\n",
      "-----------------------------------------------------------------\n",
      "Question: 9. Explain the example given about ice cream sales and shark attacks to illustrate the concept of correlation not implying causation.\n",
      "Answer : The example of ice cream sales and shark attacks is often used to highlight the concept that correlation does not imply causation. In this case, there is a strong correlation between the two variables, meaning that as ice cream sales increase, so do shark attacks. However, it would be incorrect to conclude that eating ice cream causes shark attacks or vice versa.\n",
      "\n",
      "The reason for this correlation is likely due to a third variable, such as hot weather. During hot weather, people are more likely to buy ice cream and also more likely to go swimming in the ocean, increasing the chances of a shark attack. Therefore, the correlation between ice cream sales and shark attacks is not because one causes the other, but rather because they are both influenced by hot weather.\n",
      "\n",
      "This example serves as a reminder that correlation is a statistical relationship and does not necessarily imply a direct cause-and-effect relationship between variables. It is essential to consider other factors and conduct further research to determine causation accurately.\n",
      "-----------------------------------------------------------------\n",
      "Question: 10. In conclusion, why is correlation considered a powerful statistical tool and how is it used to improve decision-making and outcomes in various fields?\n",
      "Answer : Correlation is considered a powerful statistical tool because it can identify relationships between variables, make predictions, and help develop causal models. By understanding these relationships, decision-making can be improved in various fields such as business, finance, medicine, and psychology. For example, in business, correlation can help allocate resources effectively, in finance, it can aid in building diversified portfolios, in medicine, it can enhance disease prevention and treatment, and in psychology, it can lead to better assessments and treatments. Overall, correlation helps in making better decisions and improving outcomes by providing insights into the relationships between different factors.\n",
      "-----------------------------------------------------------------\n"
     ]
    }
   ],
   "source": [
    "ques_List = ques.split('\\n')\n",
    "for question in ques_List:\n",
    "    print(f\"Question: {question}\")\n",
    "    answer = answer_genration_chain.run(question)\n",
    "    print(f\"Answer : {answer}\")\n",
    "    print((\"-----------------------------------------------------------------\"))\n",
    "    with open(\"interview_question.txt\", 'a') as f:\n",
    "        f.write(f\"Question: {question}\")\n",
    "        f.write(f\"Answer : {answer}\")\n",
    "        f.write(\"-----------------------------------------------------------------\")"
   ]
  }
 ],
 "metadata": {
  "kernelspec": {
   "display_name": "interview_vevn",
   "language": "python",
   "name": "python3"
  },
  "language_info": {
   "codemirror_mode": {
    "name": "ipython",
    "version": 3
   },
   "file_extension": ".py",
   "mimetype": "text/x-python",
   "name": "python",
   "nbconvert_exporter": "python",
   "pygments_lexer": "ipython3",
   "version": "3.10.14"
  }
 },
 "nbformat": 4,
 "nbformat_minor": 2
}
